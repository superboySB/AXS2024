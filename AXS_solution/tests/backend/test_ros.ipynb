{
 "cells": [
  {
   "cell_type": "code",
   "execution_count": null,
   "metadata": {},
   "outputs": [],
   "source": [
    "import rospy\n",
    "rospy.init_node(\"test_ros_backend\")"
   ]
  },
  {
   "cell_type": "code",
   "execution_count": null,
   "metadata": {},
   "outputs": [],
   "source": [
    "from airbot.backend.ros.gripper import RosGripper\n",
    "gripper = RosGripper('ros')\n",
    "gripper.close()\n",
    "assert gripper.state == RosGripper.Status.CLOSE\n",
    "rospy.sleep(2)\n",
    "gripper.open()\n",
    "assert gripper.state == RosGripper.Status.OPEN"
   ]
  },
  {
   "cell_type": "code",
   "execution_count": null,
   "metadata": {},
   "outputs": [],
   "source": [
    "from airbot.backend.ros.arm import RosArm\n",
    "from geometry_msgs.msg import PoseStamped\n",
    "import numpy as np\n",
    "arm = RosArm('ros')\n",
    "arm.move_end_to_pose(np.array([0.5, 0.4, 0.3],dtype=np.float64),np.array([0,0,0,1],dtype=np.float64))\n",
    "rospy.sleep(1)\n",
    "pose:PoseStamped = rospy.wait_for_message(\"/airbot_play/current_pose\",PoseStamped,timeout=1)\n",
    "print(pose)\n",
    "print(arm.end_pose)"
   ]
  },
  {
   "cell_type": "code",
   "execution_count": null,
   "metadata": {},
   "outputs": [],
   "source": [
    "from airbot.backend.ros.base import RosBase\n",
    "import numpy as np\n",
    "base = RosBase('ros')\n",
    "print(base.position,base.rotation)\n",
    "base.move_to(np.array([0.2, 0, 0],dtype=np.float64),np.array([0, 0, 0],dtype=np.float64))\n",
    "rospy.sleep(5)\n",
    "base.move_to(np.array([0, 0, 0],dtype=np.float64),np.array([0, 0, 0],dtype=np.float64))\n",
    "rospy.sleep(1)\n",
    "print(base.position,base.rotation)"
   ]
  },
  {
   "cell_type": "code",
   "execution_count": null,
   "metadata": {},
   "outputs": [],
   "source": [
    "from airbot.backend.ros.camera import RosCamera\n",
    "from matplotlib import pyplot as plt\n",
    "try: camera = RosCamera('ros')\n",
    "except Exception as e: print(e)\n",
    "rgb_image = camera.get_rgb()\n",
    "depth_image = camera.get_depth()\n",
    "print(camera.INTRINSIC)\n",
    "plt.subplot(1,2,1)\n",
    "plt.imshow(rgb_image)\n",
    "plt.subplot(1,2,2)\n",
    "plt.imshow(depth_image)\n",
    "plt.show()"
   ]
  }
 ],
 "metadata": {
  "kernelspec": {
   "display_name": "lm_robot",
   "language": "python",
   "name": "python3"
  },
  "language_info": {
   "codemirror_mode": {
    "name": "ipython",
    "version": 3
   },
   "file_extension": ".py",
   "mimetype": "text/x-python",
   "name": "python",
   "nbconvert_exporter": "python",
   "pygments_lexer": "ipython3",
   "version": "3.7.12"
  }
 },
 "nbformat": 4,
 "nbformat_minor": 2
}
